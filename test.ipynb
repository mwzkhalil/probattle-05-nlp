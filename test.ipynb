{
 "cells": [
  {
   "cell_type": "code",
   "execution_count": 7,
   "metadata": {},
   "outputs": [],
   "source": [
    "from langchain.embeddings import HuggingFaceEmbeddings\n",
    "from langchain_community.vectorstores import FAISS\n",
    "\n",
    "embeddings = HuggingFaceEmbeddings(model_name=\"sentence-transformers/all-MiniLM-L6-v2\")\n",
    "\n",
    "faiss_db = FAISS.load_local(\"ppc_vector_db\", embeddings, allow_dangerous_deserialization=True)\n",
    "\n",
    "retriever = faiss_db.as_retriever(search_type=\"similarity\", search_kwargs={\"k\": 2})\n"
   ]
  },
  {
   "cell_type": "code",
   "execution_count": 10,
   "metadata": {},
   "outputs": [
    {
     "name": "stdout",
     "output_type": "stream",
     "text": [
      "Result 1:\n",
      "work on your part and is one of high academic standards. While you study, do \n",
      "remember that the educational experience is also one of fun and joy. In this process of \n",
      "acquiring your degrees and learning, don’t forget to enjoy yourself and experience life’s many gifts. The IBA will support you in every way possible as you pursue your dreams and goals. Enjoy the next few years, they will surely be the ones you remember most.\n",
      "Dr. S Akbar Zaidi\n",
      "Executive Director\n",
      "Message from the\n",
      "Executive Director\n",
      "04\n",
      "----------------------------------------------------------------------------------------------------\n",
      "Result 2:\n",
      "The IBA has a stellar history of seven decades, with high academic standards and \n",
      "ethical values, and I hope all of you will quickly assimilate these traits which are part of our 16,000 plus global alumni network. The IBA offers a very high standard of learning and education, and I am convinced that this process of education will beneﬁt each one of you immensely. Apart from class learning, the IBA also has a large number of student societies and numerous and varied extracurricular activities which all of you should partake in and beneﬁt from. We pride ourselves for the sports and recreational facilities we offer. For us, the IBA experience goes well beyond the classroom.\n",
      "The IBA journey is challenging and requires dedication and commitment, and hard \n",
      "work on your part and is one of high academic standards. While you study, do \n",
      "remember that the educational experience is also one of fun and joy. In this process of\n",
      "----------------------------------------------------------------------------------------------------\n"
     ]
    }
   ],
   "source": [
    "query = \"IBA first semester courses\"\n",
    "\n",
    "results = retriever.get_relevant_documents(query)\n",
    "\n",
    "for i, doc in enumerate(results, start=1):\n",
    "    print(f\"Result {i}:\\n{doc.page_content}\\n{'-' * 100}\")"
   ]
  },
  {
   "cell_type": "code",
   "execution_count": null,
   "metadata": {},
   "outputs": [],
   "source": []
  }
 ],
 "metadata": {
  "kernelspec": {
   "display_name": "langchain",
   "language": "python",
   "name": "python3"
  },
  "language_info": {
   "codemirror_mode": {
    "name": "ipython",
    "version": 3
   },
   "file_extension": ".py",
   "mimetype": "text/x-python",
   "name": "python",
   "nbconvert_exporter": "python",
   "pygments_lexer": "ipython3",
   "version": "3.10.13"
  }
 },
 "nbformat": 4,
 "nbformat_minor": 2
}
